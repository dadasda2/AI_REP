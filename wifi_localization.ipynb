{
 "cells": [
  {
   "cell_type": "markdown",
   "metadata": {},
   "source": [
    "## Wifi_localization"
   ]
  },
  {
   "cell_type": "code",
   "execution_count": 1,
   "metadata": {},
   "outputs": [],
   "source": [
    "%matplotlib inline\n",
    "from IPython.display import set_matplotlib_formats\n",
    "set_matplotlib_formats('pdf', 'svg')\n",
    "%config InlineBackend.figure_format = 'retina'"
   ]
  },
  {
   "cell_type": "code",
   "execution_count": 2,
   "metadata": {},
   "outputs": [],
   "source": [
    "import numpy as np"
   ]
  },
  {
   "cell_type": "markdown",
   "metadata": {},
   "source": [
    "Соберём данные в виде: \n",
    "\\begin{equation*}\n",
    "X = \\begin{bmatrix}\n",
    "     x^{(1)}_1 & x^{(1)}_2 & ... & x^{(1)}_M \\\\\n",
    "     ... \\\\\n",
    "     x^{(N)}_1 & x^{(N)}_2 & ... & x^{(N)}_M \\\\\n",
    "    \\end{bmatrix}, \n",
    "    \\vec{y} =  \\begin{bmatrix} y_1 \\\\ ... \\\\ y_N \\end{bmatrix}\n",
    "\\end{equation*}\n",
    ", где $M$ - количество признаков (атрибутов), используемых моделью, а $N$ - количество экземпляров данных.\n",
    "В нашем случае: M = 7, N = 2000"
   ]
  },
  {
   "cell_type": "code",
   "execution_count": 3,
   "metadata": {},
   "outputs": [
    {
     "name": "stdout",
     "output_type": "stream",
     "text": [
      "['Сеть №1' 'Сеть №2' 'Сеть №3' 'Сеть №4' 'Сеть №5' 'Сеть №6' 'Сеть №7']\n",
      "[[-64 -56 -61 -66 -71 -82 -81]\n",
      " [-72 -59 -65 -75 -81 -84 -91]\n",
      " [-58 -54 -52 -61 -74 -75 -82]\n",
      " [-61 -57 -63 -67 -72 -77 -82]\n",
      " [-60 -54 -56 -64 -70 -78 -80]\n",
      " [-42 -53 -62 -38 -66 -65 -69]\n",
      " [-19 -60 -56 -36 -63 -70 -75]\n",
      " [-38 -56 -56 -37 -62 -67 -67]\n",
      " [-42 -55 -56 -43 -73 -76 -75]\n",
      " [-41 -54 -59 -41 -60 -76 -74]\n",
      " [-48 -54 -50 -49 -61 -81 -84]\n",
      " [-51 -55 -54 -49 -60 -79 -84]\n",
      " [-51 -54 -53 -55 -66 -77 -85]\n",
      " [-52 -60 -51 -46 -63 -84 -77]\n",
      " [-51 -55 -46 -54 -63 -84 -79]\n",
      " [-58 -56 -47 -62 -36 -85 -84]\n",
      " [-63 -54 -53 -65 -52 -92 -89]\n",
      " [-61 -54 -45 -66 -45 -88 -87]\n",
      " [-61 -52 -48 -57 -47 -85 -85]\n",
      " [-61 -49 -42 -66 -43 -80 -91]]\n",
      "['Комната']\n",
      "[1 1 1 1 1 2 2 2 2 2 3 3 3 3 3 4 4 4 4 4]\n"
     ]
    }
   ],
   "source": [
    "file = open(\"wifi_localization.txt\")\n",
    "X = []\n",
    "Y = []\n",
    "for file_str in file:\n",
    "    x = []\n",
    "    str_spl = file_str.split()\n",
    "    for i in range(7):\n",
    "        x.append(int(str_spl[i]))        \n",
    "    X.append(x)\n",
    "    Y.append(int(str_spl[7]))\n",
    "\n",
    "X_titles = np.array([\"Сеть №1\",\"Сеть №2\",\"Сеть №3\",\"Сеть №4\",\"Сеть №5\",\"Сеть №6\",\"Сеть №7\"]) \n",
    "Y_title = np.array(['Комната'])\n",
    "X = np.array(X)\n",
    "Y = np.array(Y)\n",
    "print(X_titles)\n",
    "print(X[::100])\n",
    "print(Y_title)\n",
    "print(Y[::100])\n",
    "file.close()"
   ]
  },
  {
   "cell_type": "markdown",
   "metadata": {},
   "source": [
    "Можно заметить, что набор данных отсортирован по классу\n"
   ]
  },
  {
   "cell_type": "code",
   "execution_count": 4,
   "metadata": {},
   "outputs": [],
   "source": [
    "from sklearn.model_selection import train_test_split\n",
    "from sklearn import linear_model, metrics"
   ]
  },
  {
   "cell_type": "code",
   "execution_count": 5,
   "metadata": {},
   "outputs": [],
   "source": [
    "X_train, X_test, Y_train ,Y_test = train_test_split(X,Y)"
   ]
  },
  {
   "cell_type": "markdown",
   "metadata": {},
   "source": [
    "### Тренировка полной модели (все атрибуты и классы)\n",
    "Попробуем использовать все семь атрибутов для тренировки модели и новых предсказаний."
   ]
  },
  {
   "cell_type": "code",
   "execution_count": 6,
   "metadata": {},
   "outputs": [
    {
     "data": {
      "text/plain": [
       "LogisticRegression(C=1.0, class_weight=None, dual=False, fit_intercept=True,\n",
       "          intercept_scaling=1, max_iter=10000, multi_class='auto',\n",
       "          n_jobs=None, penalty='l2', random_state=None, solver='lbfgs',\n",
       "          tol=0.0001, verbose=0, warm_start=False)"
      ]
     },
     "execution_count": 6,
     "metadata": {},
     "output_type": "execute_result"
    }
   ],
   "source": [
    "log = linear_model.LogisticRegression(solver = 'lbfgs',multi_class='auto',max_iter = 10000)\n",
    "log.fit(X_train, Y_train)"
   ]
  },
  {
   "cell_type": "markdown",
   "metadata": {},
   "source": [
    "Обучаем модель, выводим тестовые данные, данные, которые предсказала модель и точность предсказания."
   ]
  },
  {
   "cell_type": "code",
   "execution_count": 10,
   "metadata": {},
   "outputs": [
    {
     "name": "stdout",
     "output_type": "stream",
     "text": [
      "[4 2 1 4 3 4 4 3 4 1 4 4 1 4 3 4 1 4 4 3 4 1 2 3 3 4 1 4 2 2 4 1 1 2 2 4 4\n",
      " 1 4 4 3 4 1 1 3 4 3 2 1 1 1 3 3 3 3 3 3 4 2 2 3 4 2 2 4 4 1 1 4 2 2 4 4 1\n",
      " 2 2 1 4 2 2 1 2 2 4 4 4 4 1 1 2 3 3 4 2 3 3 1 3 3 3 2 1 3 4 4 2 3 1 1 3 2\n",
      " 3 1 4 4 1 1 3 2 2 2 2 3 2 3 1 3 2 3 3 1 2 1 4 1 1 4 3 1 4 4 3 1 1 1 1 2 3\n",
      " 4 2 1 2 3 4 2 2 3 2 1 1 4 2 1 3 1 3 1 3 2 2 4 4 2 2 2 2 4 3 2 1 2 1 2 1 1\n",
      " 3 3 3 3 3 3 1 1 4 4 2 3 1 1 4 4 2 2 4 4 2 4 2 1 2 1 3 2 3 4 3 1 3 1 2 4 1\n",
      " 1 3 1 1 4 1 1 4 1 2 2 2 2 1 4 1 3 2 3 2 2 2 3 4 4 3 4 1 3 4 1 2 2 1 1 2 4\n",
      " 1 2 4 2 2 2 4 2 4 4 3 4 3 1 2 3 3 4 4 4 4 3 4 1 4 4 4 1 4 3 1 4 2 1 3 4 1\n",
      " 3 4 1 1 1 4 1 4 1 2 3 2 2 2 1 4 3 4 2 4 4 4 2 2 4 2 1 3 2 1 4 1 4 4 2 2 4\n",
      " 3 2 3 3 3 2 2 4 3 4 1 4 1 3 1 2 3 3 1 4 4 4 4 4 1 3 4 4 1 2 2 4 1 1 1 3 3\n",
      " 1 4 4 1 3 3 3 2 4 2 4 1 2 4 4 1 4 4 3 1 2 2 3 2 2 2 2 1 4 3 4 1 4 2 1 1 4\n",
      " 3 4 1 1 4 3 1 3 2 2 3 4 4 4 2 1 1 2 2 1 4 4 1 3 2 3 3 1 4 3 2 4 1 2 2 4 3\n",
      " 3 1 1 2 4 4 2 1 3 3 1 4 1 3 4 3 3 4 3 3 2 1 1 1 2 1 3 4 4 4 1 3 1 1 4 4 3\n",
      " 1 4 3 1 1 4 1 1 1 1 1 4 2 4 1 4 2 3 2]\n",
      "[4 2 1 4 3 4 4 3 4 1 4 4 1 4 3 4 1 4 4 3 4 1 2 3 3 4 1 4 2 2 4 1 1 2 2 4 4\n",
      " 1 4 4 3 4 1 1 3 4 3 2 1 1 1 3 3 3 3 3 3 4 2 3 3 4 2 2 4 4 1 1 4 2 2 4 4 1\n",
      " 2 2 1 4 2 2 1 2 2 4 4 4 4 1 1 2 3 3 4 2 3 3 1 3 3 3 2 1 3 4 4 2 3 1 1 3 2\n",
      " 3 1 4 4 1 1 3 2 2 3 2 3 2 3 1 3 2 3 3 1 2 1 4 1 1 4 3 1 4 4 3 1 1 1 1 2 3\n",
      " 4 2 1 2 3 4 2 2 3 3 1 1 4 2 1 3 1 3 1 3 2 2 4 4 2 2 2 2 4 3 2 1 2 1 2 1 1\n",
      " 3 3 3 3 3 3 1 1 4 4 3 3 1 1 4 4 2 2 4 4 2 4 2 1 2 1 3 2 3 4 3 1 3 1 2 4 1\n",
      " 1 3 1 1 4 1 1 4 1 3 2 2 2 1 4 1 3 2 3 2 2 2 4 4 4 3 4 1 3 4 1 2 2 1 1 2 4\n",
      " 1 2 4 2 2 2 4 2 4 4 3 4 3 1 2 3 3 4 4 4 4 3 4 1 4 4 4 1 4 3 1 4 2 1 3 4 1\n",
      " 4 4 1 1 1 4 1 4 1 2 3 2 2 2 1 4 3 4 2 4 4 4 2 2 4 2 1 3 2 1 4 1 4 4 2 2 4\n",
      " 3 2 3 3 3 2 2 4 3 4 1 4 1 3 1 2 3 3 1 4 4 4 4 4 1 3 4 4 1 2 2 4 1 1 1 3 3\n",
      " 1 4 4 1 3 3 3 3 4 3 4 1 2 4 4 1 4 4 3 1 2 2 3 2 2 2 2 1 4 3 4 1 4 2 1 1 4\n",
      " 3 4 1 1 4 3 1 3 2 2 3 4 4 4 2 1 1 2 2 1 4 4 1 3 2 3 3 1 4 3 2 4 1 2 2 4 3\n",
      " 3 1 1 2 4 4 2 1 3 3 1 4 1 3 4 3 3 1 3 3 2 1 1 1 2 1 3 4 4 4 1 3 1 1 4 4 3\n",
      " 1 4 3 1 1 4 1 1 1 1 1 4 2 4 1 4 2 3 2]\n",
      "Accuracy: 0.98\n",
      "[[6.18261613e-06 3.23593774e-16 2.23818771e-06 9.99991579e-01]\n",
      " [1.13132936e-19 9.99999823e-01 1.77334118e-07 2.03309599e-25]\n",
      " [9.99999971e-01 7.93056080e-16 2.28219672e-08 6.51630266e-09]\n",
      " ...\n",
      " [5.37919938e-14 9.96441498e-01 3.55850228e-03 2.21198932e-15]\n",
      " [2.81496630e-07 2.00712179e-04 9.99798830e-01 1.76738895e-07]\n",
      " [2.80373850e-47 1.00000000e+00 3.24375913e-15 9.89195667e-52]]\n"
     ]
    }
   ],
   "source": [
    "predict = log.predict(X_test)\n",
    "print(Y_test)\n",
    "print(predict)\n",
    "print(\"Accuracy:\", metrics.accuracy_score(Y_test, predict))\n",
    "print(log.predict_proba(X_test))"
   ]
  }
 ],
 "metadata": {
  "kernelspec": {
   "display_name": "Python 3",
   "language": "python",
   "name": "python3"
  },
  "language_info": {
   "codemirror_mode": {
    "name": "ipython",
    "version": 3
   },
   "file_extension": ".py",
   "mimetype": "text/x-python",
   "name": "python",
   "nbconvert_exporter": "python",
   "pygments_lexer": "ipython3",
   "version": "3.6.5"
  }
 },
 "nbformat": 4,
 "nbformat_minor": 2
}
