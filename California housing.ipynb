{
 "cells": [
  {
   "cell_type": "code",
   "execution_count": 1,
   "metadata": {},
   "outputs": [],
   "source": [
    "%matplotlib inline\n",
    "from IPython.display import set_matplotlib_formats\n",
    "set_matplotlib_formats('pdf', 'svg')\n",
    "%config InlineBackend.figure_format = 'retina'\n",
    "import numpy as np\n",
    "from sklearn.model_selection import train_test_split\n",
    "from sklearn import linear_model, metrics\n",
    "from sklearn.ensemble import RandomForestRegressor\n",
    "import matplotlib.pyplot as plt"
   ]
  },
  {
   "cell_type": "markdown",
   "metadata": {},
   "source": [
    "Открываем фалй и собираем его в таком виде:\\begin{equation*}\n",
    "X = \\begin{bmatrix}\n",
    "     x^{(1)}_1 & x^{(1)}_2 & ... & x^{(1)}_M \\\\\n",
    "     ... \\\\\n",
    "     x^{(N)}_1 & x^{(N)}_2 & ... & x^{(N)}_M \\\\\n",
    "    \\end{bmatrix}, \n",
    "    \\vec{y} =  \\begin{bmatrix} y_1 \\\\ ... \\\\ y_N \\end{bmatrix}\n",
    "\\end{equation*}\n",
    ", где $M$ - количество признаков (атрибутов), используемых моделью, а $N$ - количество экземпляров данных."
   ]
  },
  {
   "cell_type": "code",
   "execution_count": 2,
   "metadata": {},
   "outputs": [],
   "source": [
    "file = open(\"california_housing.csv\")\n",
    "lines = [line.rstrip().split(',') for line in file]\n",
    "\n",
    "dataset = {}\n",
    "dataset['feature_names'] = [\n",
    "    \"longitude\",\n",
    "    \"latitude\",\n",
    "    \"housing_median_age\",\n",
    "    \"total_rooms\",\n",
    "    \"total_bedrooms\",\n",
    "    \"population\",\n",
    "    \"households\",\n",
    "    \"median_income\",\n",
    "    \"ocean_proximity_is_1h_ocean\",\n",
    "    \"ocean_proximity_is_inland\",\n",
    "    \"ocean_proximity_is_island\",\n",
    "    \"ocean_proximity_is_near_bay\",\n",
    "    \"ocean_proximity_is_near_ocean\"]\n",
    "\n",
    "\n"
   ]
  },
  {
   "cell_type": "markdown",
   "metadata": {},
   "source": [
    "Убераем названия признаков и отделяем признак близости к океану, обработаем его отдельно"
   ]
  },
  {
   "cell_type": "code",
   "execution_count": 3,
   "metadata": {},
   "outputs": [],
   "source": [
    "lines = lines[1:]\n",
    "data = [line[:-1] for line in lines]"
   ]
  },
  {
   "cell_type": "markdown",
   "metadata": {},
   "source": [
    "Парсим, а отсутствующие данные заменяем на -1"
   ]
  },
  {
   "cell_type": "code",
   "execution_count": 4,
   "metadata": {},
   "outputs": [],
   "source": [
    "def float_or_null(x):\n",
    "    a = None\n",
    "    try:\n",
    "        a = float(x)\n",
    "    except:\n",
    "        a = -1\n",
    "    return a"
   ]
  },
  {
   "cell_type": "code",
   "execution_count": 5,
   "metadata": {},
   "outputs": [],
   "source": [
    "data = [[float_or_null(x) for x in line] for line in data]"
   ]
  },
  {
   "cell_type": "code",
   "execution_count": 6,
   "metadata": {},
   "outputs": [],
   "source": [
    "data_proximity = [line[-1] for line in lines]\n",
    "proximity_values = sorted(list(set(data_proximity)))"
   ]
  },
  {
   "cell_type": "markdown",
   "metadata": {},
   "source": [
    "Приводим признак близости к океану к виду:  \\begin{equation*} [*,*,*,*,*] , * \\in \\{0,1\\} \\end{equation*}"
   ]
  },
  {
   "cell_type": "code",
   "execution_count": 7,
   "metadata": {},
   "outputs": [],
   "source": [
    "data_proximity = [[int(value == entry) for value in proximity_values] for entry in data_proximity]"
   ]
  },
  {
   "cell_type": "markdown",
   "metadata": {},
   "source": [
    "Отделяем медианную стоимость и делаем её целевой"
   ]
  },
  {
   "cell_type": "code",
   "execution_count": 8,
   "metadata": {},
   "outputs": [],
   "source": [
    "target_index = 8\n",
    "clean_data = [line[:target_index] + line[(target_index + 1):] for line in data]\n",
    "target = [line[target_index] for line in data]"
   ]
  },
  {
   "cell_type": "code",
   "execution_count": 9,
   "metadata": {},
   "outputs": [],
   "source": [
    "dataset['data'] = np.array([clean_data[i] + data_proximity[i] for i in range(len(data))])\n",
    "dataset['target'] = np.array(target)"
   ]
  },
  {
   "cell_type": "markdown",
   "metadata": {},
   "source": [
    "dataset без учёта географических координат(ng - no geo)"
   ]
  },
  {
   "cell_type": "code",
   "execution_count": 10,
   "metadata": {},
   "outputs": [],
   "source": [
    "dataset_ng = {}\n",
    "dataset_ng['feature_names'] = np.array(dataset['feature_names'][2:])\n",
    "dataset_ng['data'] = np.array([x[2:] for x in dataset['data']])\n",
    "dataset_ng['target'] = dataset['target']"
   ]
  },
  {
   "cell_type": "markdown",
   "metadata": {},
   "source": [
    "Разделяем на тестовые и тренеровочные данные"
   ]
  },
  {
   "cell_type": "code",
   "execution_count": 11,
   "metadata": {},
   "outputs": [],
   "source": [
    "X_train, X_test, Y_train, Y_test = train_test_split(dataset['data'], dataset['target'])\n",
    "X_train_ng, X_test_ng, Y_train_ng, Y_test_ng = train_test_split(dataset_ng['data'], dataset_ng['target'])"
   ]
  },
  {
   "cell_type": "markdown",
   "metadata": {},
   "source": [
    "Попробуем натренировать LinearRegression, Ridge и Lasso."
   ]
  },
  {
   "cell_type": "code",
   "execution_count": 12,
   "metadata": {},
   "outputs": [
    {
     "name": "stdout",
     "output_type": "stream",
     "text": [
      "Score: 0.6501372341003854\n",
      "Score_ng: 0.6356162136126167\n"
     ]
    }
   ],
   "source": [
    "linreg = linear_model.LinearRegression()\n",
    "linreg.fit(X_train,Y_train)\n",
    "lin_pred = linreg.predict(X_test)\n",
    "\n",
    "linreg_ng = linear_model.LinearRegression()\n",
    "linreg_ng.fit(X_train_ng,Y_train_ng)\n",
    "lin_pred_ng = linreg_ng.predict(X_test_ng)\n",
    "\n",
    "print(\"Score:\", linreg.score(X_test,Y_test))\n",
    "print(\"Score_ng:\", linreg_ng.score(X_test_ng,Y_test_ng))"
   ]
  },
  {
   "cell_type": "code",
   "execution_count": 13,
   "metadata": {},
   "outputs": [
    {
     "data": {
      "text/plain": [
       "Ridge(alpha=1.0, copy_X=True, fit_intercept=True, max_iter=None,\n",
       "   normalize=False, random_state=None, solver='auto', tol=0.001)"
      ]
     },
     "execution_count": 13,
     "metadata": {},
     "output_type": "execute_result"
    }
   ],
   "source": [
    "ridge = linear_model.Ridge()\n",
    "ridge.fit(X_train,Y_train)\n",
    "\n",
    "ridge_ng = linear_model.Ridge()\n",
    "ridge_ng.fit(X_train_ng,Y_train_ng)\n"
   ]
  },
  {
   "cell_type": "code",
   "execution_count": 14,
   "metadata": {},
   "outputs": [
    {
     "name": "stdout",
     "output_type": "stream",
     "text": [
      "Score: 0.650192618942009\n",
      "Score_ng: 0.635783126805601\n"
     ]
    }
   ],
   "source": [
    "ridge_pred = linreg.predict(X_test)\n",
    "ridge_pred_ng = ridge_ng.predict(X_test_ng)\n",
    "\n",
    "print(\"Score:\", ridge.score(X_test,Y_test))\n",
    "print(\"Score_ng:\", ridge_ng.score(X_test_ng,Y_test_ng))"
   ]
  },
  {
   "cell_type": "code",
   "execution_count": 15,
   "metadata": {},
   "outputs": [
    {
     "data": {
      "text/plain": [
       "Lasso(alpha=1.0, copy_X=True, fit_intercept=True, max_iter=10000,\n",
       "   normalize=False, positive=False, precompute=False, random_state=None,\n",
       "   selection='cyclic', tol=0.0001, warm_start=False)"
      ]
     },
     "execution_count": 15,
     "metadata": {},
     "output_type": "execute_result"
    }
   ],
   "source": [
    "lasso = linear_model.Lasso(max_iter = 10000)\n",
    "lasso.fit(X_train,Y_train)\n",
    "\n",
    "lasso_ng = linear_model.Lasso(max_iter = 10000)\n",
    "lasso_ng.fit(X_train_ng,Y_train_ng)"
   ]
  },
  {
   "cell_type": "code",
   "execution_count": 16,
   "metadata": {},
   "outputs": [
    {
     "name": "stdout",
     "output_type": "stream",
     "text": [
      "Score: 0.6501489888452501\n",
      "Score_ng: 0.6356407249745393\n"
     ]
    }
   ],
   "source": [
    "lasso_pred = lasso.predict(X_test)\n",
    "lasso_pred_ng = lasso_ng.predict(X_test_ng)\n",
    "\n",
    "print(\"Score:\", lasso.score(X_test,Y_test))\n",
    "print(\"Score_ng:\", lasso_ng.score(X_test_ng,Y_test_ng))"
   ]
  },
  {
   "cell_type": "markdown",
   "metadata": {},
   "source": [
    "Как видим точность ~65, что достаточно мало, попробуем RandomForestRegressor."
   ]
  },
  {
   "cell_type": "code",
   "execution_count": 17,
   "metadata": {},
   "outputs": [
    {
     "data": {
      "text/plain": [
       "RandomForestRegressor(bootstrap=True, criterion='mse', max_depth=None,\n",
       "           max_features=10, max_leaf_nodes=None, min_impurity_decrease=0.0,\n",
       "           min_impurity_split=None, min_samples_leaf=1,\n",
       "           min_samples_split=2, min_weight_fraction_leaf=0.0,\n",
       "           n_estimators=15, n_jobs=None, oob_score=False, random_state=0,\n",
       "           verbose=0, warm_start=False)"
      ]
     },
     "execution_count": 17,
     "metadata": {},
     "output_type": "execute_result"
    }
   ],
   "source": [
    "forest = RandomForestRegressor(n_estimators=15, random_state=0, max_features=10)\n",
    "forest.fit(X_train, Y_train)\n",
    "\n",
    "forest_ng = RandomForestRegressor(n_estimators=15, random_state=0, max_features=10)\n",
    "forest_ng.fit(X_train_ng, Y_train_ng)"
   ]
  },
  {
   "cell_type": "code",
   "execution_count": 18,
   "metadata": {},
   "outputs": [
    {
     "name": "stdout",
     "output_type": "stream",
     "text": [
      "Score: 0.8223281299272607\n",
      "Score_ng: 0.6981847640147326\n"
     ]
    }
   ],
   "source": [
    "print(\"Score:\", forest.score(X_test,Y_test))\n",
    "print(\"Score_ng:\", forest_ng.score(X_test_ng,Y_test_ng))"
   ]
  },
  {
   "cell_type": "markdown",
   "metadata": {},
   "source": [
    "В итоге точность RandomForestRegressor ~82, учитывая геолокацию, без неё ~70, что всё равно лучше, чем линейные модели. Далее посмторим какой из признаков наиболее информативен."
   ]
  },
  {
   "cell_type": "code",
   "execution_count": 19,
   "metadata": {},
   "outputs": [],
   "source": [
    "importances = forest.feature_importances_\n",
    "std = np.std([tree.feature_importances_ for tree in forest.estimators_], axis=0)\n",
    "indices = np.argsort(importances)[::-1]"
   ]
  },
  {
   "cell_type": "code",
   "execution_count": 20,
   "metadata": {},
   "outputs": [
    {
     "name": "stdout",
     "output_type": "stream",
     "text": [
      "Feature ranking of model with geo:\n",
      "1) median_income - 0.4532512715544687\n",
      "2) ocean_proximity_is_inland - 0.16143180075933403\n",
      "3) longitude - 0.10900069789308349\n",
      "4) latitude - 0.10254529106183334\n",
      "5) housing_median_age - 0.04603905080246197\n",
      "6) population - 0.03620958079193048\n",
      "7) total_rooms - 0.028059442469577048\n",
      "8) households - 0.024110795555547668\n",
      "9) total_bedrooms - 0.022256056411603723\n",
      "10) ocean_proximity_is_1h_ocean - 0.008743082038463442\n",
      "11) ocean_proximity_is_near_ocean - 0.007042988458202159\n",
      "12) ocean_proximity_is_near_bay - 0.0010955680066558596\n",
      "13) ocean_proximity_is_island - 0.0002143741968380106\n"
     ]
    }
   ],
   "source": [
    "print(\"Feature ranking of model with geo:\")\n",
    "\n",
    "for f in range(dataset['data'].shape[1]):\n",
    "    print(f + 1,\") \", dataset['feature_names'][indices[f]],\" - \", importances[indices[f]],sep = '')"
   ]
  },
  {
   "cell_type": "markdown",
   "metadata": {},
   "source": [
    "Получается, что самым информативным оказался медианный доход"
   ]
  }
 ],
 "metadata": {
  "kernelspec": {
   "display_name": "Python 3",
   "language": "python",
   "name": "python3"
  },
  "language_info": {
   "codemirror_mode": {
    "name": "ipython",
    "version": 3
   },
   "file_extension": ".py",
   "mimetype": "text/x-python",
   "name": "python",
   "nbconvert_exporter": "python",
   "pygments_lexer": "ipython3",
   "version": "3.6.5"
  }
 },
 "nbformat": 4,
 "nbformat_minor": 2
}
